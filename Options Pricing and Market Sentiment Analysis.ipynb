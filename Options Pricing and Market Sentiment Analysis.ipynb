{
 "cells": [
  {
   "cell_type": "code",
   "execution_count": 1,
   "id": "bd8246b4-e346-456d-ba3f-0756abd133b1",
   "metadata": {},
   "outputs": [
    {
     "name": "stdout",
     "output_type": "stream",
     "text": [
      "Defaulting to user installation because normal site-packages is not writeable\n",
      "Collecting yfinance\n",
      "  Downloading yfinance-0.2.66-py2.py3-none-any.whl.metadata (6.0 kB)\n",
      "Requirement already satisfied: pandas in c:\\anaconda\\lib\\site-packages (2.2.2)\n",
      "Requirement already satisfied: numpy in c:\\users\\hania\\appdata\\roaming\\python\\python312\\site-packages (1.26.4)\n",
      "Requirement already satisfied: matplotlib in c:\\anaconda\\lib\\site-packages (3.9.2)\n",
      "Requirement already satisfied: requests>=2.31 in c:\\anaconda\\lib\\site-packages (from yfinance) (2.32.3)\n",
      "Collecting multitasking>=0.0.7 (from yfinance)\n",
      "  Downloading multitasking-0.0.12.tar.gz (19 kB)\n",
      "  Preparing metadata (setup.py): started\n",
      "  Preparing metadata (setup.py): finished with status 'done'\n",
      "Requirement already satisfied: platformdirs>=2.0.0 in c:\\anaconda\\lib\\site-packages (from yfinance) (3.10.0)\n",
      "Requirement already satisfied: pytz>=2022.5 in c:\\anaconda\\lib\\site-packages (from yfinance) (2024.1)\n",
      "Requirement already satisfied: frozendict>=2.3.4 in c:\\anaconda\\lib\\site-packages (from yfinance) (2.4.2)\n",
      "Collecting peewee>=3.16.2 (from yfinance)\n",
      "  Downloading peewee-3.18.2.tar.gz (949 kB)\n",
      "     ---------------------------------------- 0.0/949.2 kB ? eta -:--:--\n",
      "     ---------------------------------------- 0.0/949.2 kB ? eta -:--:--\n",
      "     ---------------------------------------- 0.0/949.2 kB ? eta -:--:--\n",
      "     ---------------------------------------- 0.0/949.2 kB ? eta -:--:--\n",
      "     ---------------------------------------- 0.0/949.2 kB ? eta -:--:--\n",
      "     ---------------------------------------- 0.0/949.2 kB ? eta -:--:--\n",
      "     ---------------------------------------- 0.0/949.2 kB ? eta -:--:--\n",
      "     ---------------------------------------- 0.0/949.2 kB ? eta -:--:--\n",
      "     ---------------------------------------- 0.0/949.2 kB ? eta -:--:--\n",
      "     ---------------------------------------- 0.0/949.2 kB ? eta -:--:--\n",
      "     ---------------------------------------- 0.0/949.2 kB ? eta -:--:--\n",
      "     ---------------------------------------- 0.0/949.2 kB ? eta -:--:--\n",
      "     ---------------------------------------- 0.0/949.2 kB ? eta -:--:--\n",
      "     ---------------------------------------- 0.0/949.2 kB ? eta -:--:--\n",
      "     ----------- ---------------------------- 262.1/949.2 kB ? eta -:--:--\n",
      "     ----------- ---------------------------- 262.1/949.2 kB ? eta -:--:--\n",
      "     ----------- ---------------------------- 262.1/949.2 kB ? eta -:--:--\n",
      "     ----------- ---------------------------- 262.1/949.2 kB ? eta -:--:--\n",
      "     ----------- ---------------------------- 262.1/949.2 kB ? eta -:--:--\n",
      "     ----------- ---------------------------- 262.1/949.2 kB ? eta -:--:--\n",
      "     ----------- ---------------------------- 262.1/949.2 kB ? eta -:--:--\n",
      "     ----------- ---------------------------- 262.1/949.2 kB ? eta -:--:--\n",
      "     ----------- ---------------------------- 262.1/949.2 kB ? eta -:--:--\n",
      "     ------------------- ---------------- 524.3/949.2 kB 139.8 kB/s eta 0:00:04\n",
      "     ------------------- ---------------- 524.3/949.2 kB 139.8 kB/s eta 0:00:04\n",
      "     ------------------- ---------------- 524.3/949.2 kB 139.8 kB/s eta 0:00:04\n",
      "     ------------------- ---------------- 524.3/949.2 kB 139.8 kB/s eta 0:00:04\n",
      "     ------------------- ---------------- 524.3/949.2 kB 139.8 kB/s eta 0:00:04\n",
      "     ------------------- ---------------- 524.3/949.2 kB 139.8 kB/s eta 0:00:04\n",
      "     ------------------- ---------------- 524.3/949.2 kB 139.8 kB/s eta 0:00:04\n",
      "     ------------------- ---------------- 524.3/949.2 kB 139.8 kB/s eta 0:00:04\n",
      "     ----------------------------- ------ 786.4/949.2 kB 140.4 kB/s eta 0:00:02\n",
      "     ----------------------------- ------ 786.4/949.2 kB 140.4 kB/s eta 0:00:02\n",
      "     ----------------------------- ------ 786.4/949.2 kB 140.4 kB/s eta 0:00:02\n",
      "     ----------------------------- ------ 786.4/949.2 kB 140.4 kB/s eta 0:00:02\n",
      "     ----------------------------- ------ 786.4/949.2 kB 140.4 kB/s eta 0:00:02\n",
      "     ----------------------------- ------ 786.4/949.2 kB 140.4 kB/s eta 0:00:02\n",
      "     ----------------------------- ------ 786.4/949.2 kB 140.4 kB/s eta 0:00:02\n",
      "     ------------------------------------ 949.2/949.2 kB 134.1 kB/s eta 0:00:00\n",
      "  Installing build dependencies: started\n",
      "  Installing build dependencies: finished with status 'done'\n",
      "  Getting requirements to build wheel: started\n",
      "  Getting requirements to build wheel: finished with status 'done'\n",
      "  Preparing metadata (pyproject.toml): started\n",
      "  Preparing metadata (pyproject.toml): finished with status 'done'\n",
      "Requirement already satisfied: beautifulsoup4>=4.11.1 in c:\\anaconda\\lib\\site-packages (from yfinance) (4.12.3)\n",
      "Collecting curl_cffi>=0.7 (from yfinance)\n",
      "  Downloading curl_cffi-0.13.0-cp39-abi3-win_amd64.whl.metadata (13 kB)\n",
      "Requirement already satisfied: protobuf>=3.19.0 in c:\\anaconda\\lib\\site-packages (from yfinance) (4.25.3)\n",
      "Collecting websockets>=13.0 (from yfinance)\n",
      "  Downloading websockets-15.0.1-cp312-cp312-win_amd64.whl.metadata (7.0 kB)\n",
      "Requirement already satisfied: python-dateutil>=2.8.2 in c:\\anaconda\\lib\\site-packages (from pandas) (2.9.0.post0)\n",
      "Requirement already satisfied: tzdata>=2022.7 in c:\\anaconda\\lib\\site-packages (from pandas) (2023.3)\n",
      "Requirement already satisfied: contourpy>=1.0.1 in c:\\anaconda\\lib\\site-packages (from matplotlib) (1.2.0)\n",
      "Requirement already satisfied: cycler>=0.10 in c:\\anaconda\\lib\\site-packages (from matplotlib) (0.11.0)\n",
      "Requirement already satisfied: fonttools>=4.22.0 in c:\\anaconda\\lib\\site-packages (from matplotlib) (4.51.0)\n",
      "Requirement already satisfied: kiwisolver>=1.3.1 in c:\\anaconda\\lib\\site-packages (from matplotlib) (1.4.4)\n",
      "Requirement already satisfied: packaging>=20.0 in c:\\anaconda\\lib\\site-packages (from matplotlib) (24.1)\n",
      "Requirement already satisfied: pillow>=8 in c:\\anaconda\\lib\\site-packages (from matplotlib) (10.4.0)\n",
      "Requirement already satisfied: pyparsing>=2.3.1 in c:\\anaconda\\lib\\site-packages (from matplotlib) (3.1.2)\n",
      "Requirement already satisfied: soupsieve>1.2 in c:\\anaconda\\lib\\site-packages (from beautifulsoup4>=4.11.1->yfinance) (2.5)\n",
      "Requirement already satisfied: cffi>=1.12.0 in c:\\anaconda\\lib\\site-packages (from curl_cffi>=0.7->yfinance) (1.17.1)\n",
      "Requirement already satisfied: certifi>=2024.2.2 in c:\\anaconda\\lib\\site-packages (from curl_cffi>=0.7->yfinance) (2024.8.30)\n",
      "Requirement already satisfied: six>=1.5 in c:\\anaconda\\lib\\site-packages (from python-dateutil>=2.8.2->pandas) (1.16.0)\n",
      "Requirement already satisfied: charset-normalizer<4,>=2 in c:\\anaconda\\lib\\site-packages (from requests>=2.31->yfinance) (3.3.2)\n",
      "Requirement already satisfied: idna<4,>=2.5 in c:\\anaconda\\lib\\site-packages (from requests>=2.31->yfinance) (3.7)\n",
      "Requirement already satisfied: urllib3<3,>=1.21.1 in c:\\anaconda\\lib\\site-packages (from requests>=2.31->yfinance) (2.2.3)\n",
      "Requirement already satisfied: pycparser in c:\\anaconda\\lib\\site-packages (from cffi>=1.12.0->curl_cffi>=0.7->yfinance) (2.21)\n",
      "Downloading yfinance-0.2.66-py2.py3-none-any.whl (123 kB)\n",
      "Downloading curl_cffi-0.13.0-cp39-abi3-win_amd64.whl (1.6 MB)\n",
      "   ---------------------------------------- 0.0/1.6 MB ? eta -:--:--\n",
      "   ---------------------------------------- 0.0/1.6 MB ? eta -:--:--\n",
      "   ---------------------------------------- 0.0/1.6 MB ? eta -:--:--\n",
      "   ---------------------------------------- 0.0/1.6 MB ? eta -:--:--\n",
      "   ---------------------------------------- 0.0/1.6 MB ? eta -:--:--\n",
      "   ---------------------------------------- 0.0/1.6 MB ? eta -:--:--\n",
      "   ---------------------------------------- 0.0/1.6 MB ? eta -:--:--\n",
      "   ---------------------------------------- 0.0/1.6 MB ? eta -:--:--\n",
      "   ---------------------------------------- 0.0/1.6 MB ? eta -:--:--\n",
      "   ---------------------------------------- 0.0/1.6 MB ? eta -:--:--\n",
      "   ---------------------------------------- 0.0/1.6 MB ? eta -:--:--\n",
      "   ---------------------------------------- 0.0/1.6 MB ? eta -:--:--\n",
      "   ------ --------------------------------- 0.3/1.6 MB ? eta -:--:--\n",
      "   ------ --------------------------------- 0.3/1.6 MB ? eta -:--:--\n",
      "   ------ --------------------------------- 0.3/1.6 MB ? eta -:--:--\n",
      "   ------ --------------------------------- 0.3/1.6 MB ? eta -:--:--\n",
      "   ------ --------------------------------- 0.3/1.6 MB ? eta -:--:--\n",
      "   ------ --------------------------------- 0.3/1.6 MB ? eta -:--:--\n",
      "   ------ --------------------------------- 0.3/1.6 MB ? eta -:--:--\n",
      "   ------ --------------------------------- 0.3/1.6 MB ? eta -:--:--\n",
      "   ------ --------------------------------- 0.3/1.6 MB ? eta -:--:--\n",
      "   ------ --------------------------------- 0.3/1.6 MB ? eta -:--:--\n",
      "   ------ --------------------------------- 0.3/1.6 MB ? eta -:--:--\n",
      "   ------ --------------------------------- 0.3/1.6 MB ? eta -:--:--\n",
      "   ------------ --------------------------- 0.5/1.6 MB 106.2 kB/s eta 0:00:11\n",
      "   ------------ --------------------------- 0.5/1.6 MB 106.2 kB/s eta 0:00:11\n",
      "   ------------ --------------------------- 0.5/1.6 MB 106.2 kB/s eta 0:00:11\n",
      "   ------------ --------------------------- 0.5/1.6 MB 106.2 kB/s eta 0:00:11\n",
      "   ------------ --------------------------- 0.5/1.6 MB 106.2 kB/s eta 0:00:11\n",
      "   ------------ --------------------------- 0.5/1.6 MB 106.2 kB/s eta 0:00:11\n",
      "   ------------ --------------------------- 0.5/1.6 MB 106.2 kB/s eta 0:00:11\n",
      "   ------------ --------------------------- 0.5/1.6 MB 106.2 kB/s eta 0:00:11\n",
      "   ------------ --------------------------- 0.5/1.6 MB 106.2 kB/s eta 0:00:11\n",
      "   ------------ --------------------------- 0.5/1.6 MB 106.2 kB/s eta 0:00:11\n",
      "   ------------ --------------------------- 0.5/1.6 MB 106.2 kB/s eta 0:00:11\n",
      "   ------------------- -------------------- 0.8/1.6 MB 105.2 kB/s eta 0:00:08\n",
      "   ------------------- -------------------- 0.8/1.6 MB 105.2 kB/s eta 0:00:08\n",
      "   ------------------- -------------------- 0.8/1.6 MB 105.2 kB/s eta 0:00:08\n",
      "   ------------------- -------------------- 0.8/1.6 MB 105.2 kB/s eta 0:00:08\n",
      "   ------------------- -------------------- 0.8/1.6 MB 105.2 kB/s eta 0:00:08\n",
      "   ------------------- -------------------- 0.8/1.6 MB 105.2 kB/s eta 0:00:08\n",
      "   ------------------- -------------------- 0.8/1.6 MB 105.2 kB/s eta 0:00:08\n",
      "   ------------------- -------------------- 0.8/1.6 MB 105.2 kB/s eta 0:00:08\n",
      "   ------------------- -------------------- 0.8/1.6 MB 105.2 kB/s eta 0:00:08\n",
      "   ------------------- -------------------- 0.8/1.6 MB 105.2 kB/s eta 0:00:08\n",
      "   ------------------------- -------------- 1.0/1.6 MB 110.9 kB/s eta 0:00:06\n",
      "   ------------------------- -------------- 1.0/1.6 MB 110.9 kB/s eta 0:00:06\n",
      "   ------------------------- -------------- 1.0/1.6 MB 110.9 kB/s eta 0:00:06\n",
      "   ------------------------- -------------- 1.0/1.6 MB 110.9 kB/s eta 0:00:06\n",
      "   ------------------------- -------------- 1.0/1.6 MB 110.9 kB/s eta 0:00:06\n",
      "   ------------------------- -------------- 1.0/1.6 MB 110.9 kB/s eta 0:00:06\n",
      "   ------------------------- -------------- 1.0/1.6 MB 110.9 kB/s eta 0:00:06\n",
      "   ------------------------- -------------- 1.0/1.6 MB 110.9 kB/s eta 0:00:06\n",
      "   ------------------------- -------------- 1.0/1.6 MB 110.9 kB/s eta 0:00:06\n",
      "   ------------------------- -------------- 1.0/1.6 MB 110.9 kB/s eta 0:00:06\n",
      "   ------------------------- -------------- 1.0/1.6 MB 110.9 kB/s eta 0:00:06\n",
      "   -------------------------------- ------- 1.3/1.6 MB 111.1 kB/s eta 0:00:03\n",
      "   -------------------------------- ------- 1.3/1.6 MB 111.1 kB/s eta 0:00:03\n",
      "   -------------------------------- ------- 1.3/1.6 MB 111.1 kB/s eta 0:00:03\n",
      "   -------------------------------- ------- 1.3/1.6 MB 111.1 kB/s eta 0:00:03\n",
      "   -------------------------------- ------- 1.3/1.6 MB 111.1 kB/s eta 0:00:03\n",
      "   -------------------------------- ------- 1.3/1.6 MB 111.1 kB/s eta 0:00:03\n",
      "   -------------------------------- ------- 1.3/1.6 MB 111.1 kB/s eta 0:00:03\n",
      "   -------------------------------- ------- 1.3/1.6 MB 111.1 kB/s eta 0:00:03\n",
      "   -------------------------------- ------- 1.3/1.6 MB 111.1 kB/s eta 0:00:03\n",
      "   -------------------------------------- - 1.6/1.6 MB 115.9 kB/s eta 0:00:01\n",
      "   ---------------------------------------- 1.6/1.6 MB 117.6 kB/s eta 0:00:00\n",
      "Downloading websockets-15.0.1-cp312-cp312-win_amd64.whl (176 kB)\n",
      "Building wheels for collected packages: multitasking, peewee\n",
      "  Building wheel for multitasking (setup.py): started\n",
      "  Building wheel for multitasking (setup.py): finished with status 'done'\n",
      "  Created wheel for multitasking: filename=multitasking-0.0.12-py3-none-any.whl size=15617 sha256=8c21a387aaae024885a63dfc8d8fc9d26bc10b869a016ba99c8af255c0af9b63\n",
      "  Stored in directory: c:\\users\\hania\\appdata\\local\\pip\\cache\\wheels\\cc\\bd\\6f\\664d62c99327abeef7d86489e6631cbf45b56fbf7ef1d6ef00\n",
      "  Building wheel for peewee (pyproject.toml): started\n",
      "  Building wheel for peewee (pyproject.toml): finished with status 'done'\n",
      "  Created wheel for peewee: filename=peewee-3.18.2-py3-none-any.whl size=139153 sha256=ca877b5aed855cd84cce3140124a03ef350c4bf6c6333cb31391e02582e9e43f\n",
      "  Stored in directory: c:\\users\\hania\\appdata\\local\\pip\\cache\\wheels\\d1\\df\\a9\\0202b051c65b11c992dd6db9f2babdd2c44ec7d35d511be5d3\n",
      "Successfully built multitasking peewee\n",
      "Installing collected packages: peewee, multitasking, websockets, curl_cffi, yfinance\n",
      "Successfully installed curl_cffi-0.13.0 multitasking-0.0.12 peewee-3.18.2 websockets-15.0.1 yfinance-0.2.66\n",
      "Note: you may need to restart the kernel to use updated packages.\n"
     ]
    },
    {
     "name": "stderr",
     "output_type": "stream",
     "text": [
      "  WARNING: The script websockets.exe is installed in 'C:\\Users\\Hania\\AppData\\Roaming\\Python\\Python312\\Scripts' which is not on PATH.\n",
      "  Consider adding this directory to PATH or, if you prefer to suppress this warning, use --no-warn-script-location.\n",
      "  WARNING: The script sample.exe is installed in 'C:\\Users\\Hania\\AppData\\Roaming\\Python\\Python312\\Scripts' which is not on PATH.\n",
      "  Consider adding this directory to PATH or, if you prefer to suppress this warning, use --no-warn-script-location.\n"
     ]
    }
   ],
   "source": [
    "pip install yfinance pandas numpy matplotlib\n"
   ]
  },
  {
   "cell_type": "code",
   "execution_count": 2,
   "id": "a4fe6dd7-a010-4b21-a8fc-d477cbe88ff1",
   "metadata": {},
   "outputs": [],
   "source": [
    "import yfinance as yf\n",
    "import pandas as pd\n",
    "import numpy as np\n",
    "import matplotlib.pyplot as plt\n",
    "\n",
    "# change these if you want\n",
    "ticker = \"AAPL\"\n",
    "period = \"1y\"   # e.g. \"6mo\", \"1y\""
   ]
  },
  {
   "cell_type": "code",
   "execution_count": 3,
   "id": "758652a6-4d0c-43fb-9516-edb8794ff2e8",
   "metadata": {
    "scrolled": true
   },
   "outputs": [
    {
     "data": {
      "text/html": [
       "<div>\n",
       "<style scoped>\n",
       "    .dataframe tbody tr th:only-of-type {\n",
       "        vertical-align: middle;\n",
       "    }\n",
       "\n",
       "    .dataframe tbody tr th {\n",
       "        vertical-align: top;\n",
       "    }\n",
       "\n",
       "    .dataframe thead th {\n",
       "        text-align: right;\n",
       "    }\n",
       "</style>\n",
       "<table border=\"1\" class=\"dataframe\">\n",
       "  <thead>\n",
       "    <tr style=\"text-align: right;\">\n",
       "      <th></th>\n",
       "      <th>Date</th>\n",
       "      <th>Open</th>\n",
       "      <th>High</th>\n",
       "      <th>Low</th>\n",
       "      <th>Close</th>\n",
       "      <th>Volume</th>\n",
       "      <th>Dividends</th>\n",
       "      <th>Stock Splits</th>\n",
       "    </tr>\n",
       "  </thead>\n",
       "  <tbody>\n",
       "    <tr>\n",
       "      <th>248</th>\n",
       "      <td>2025-10-01 00:00:00-04:00</td>\n",
       "      <td>255.039993</td>\n",
       "      <td>258.790009</td>\n",
       "      <td>254.929993</td>\n",
       "      <td>255.449997</td>\n",
       "      <td>48713900</td>\n",
       "      <td>0.0</td>\n",
       "      <td>0.0</td>\n",
       "    </tr>\n",
       "    <tr>\n",
       "      <th>249</th>\n",
       "      <td>2025-10-02 00:00:00-04:00</td>\n",
       "      <td>256.579987</td>\n",
       "      <td>258.179993</td>\n",
       "      <td>254.149994</td>\n",
       "      <td>257.130005</td>\n",
       "      <td>42597200</td>\n",
       "      <td>0.0</td>\n",
       "      <td>0.0</td>\n",
       "    </tr>\n",
       "    <tr>\n",
       "      <th>250</th>\n",
       "      <td>2025-10-03 00:00:00-04:00</td>\n",
       "      <td>254.664993</td>\n",
       "      <td>259.239990</td>\n",
       "      <td>253.960007</td>\n",
       "      <td>258.440002</td>\n",
       "      <td>23447735</td>\n",
       "      <td>0.0</td>\n",
       "      <td>0.0</td>\n",
       "    </tr>\n",
       "  </tbody>\n",
       "</table>\n",
       "</div>"
      ],
      "text/plain": [
       "                         Date        Open        High         Low       Close  \\\n",
       "248 2025-10-01 00:00:00-04:00  255.039993  258.790009  254.929993  255.449997   \n",
       "249 2025-10-02 00:00:00-04:00  256.579987  258.179993  254.149994  257.130005   \n",
       "250 2025-10-03 00:00:00-04:00  254.664993  259.239990  253.960007  258.440002   \n",
       "\n",
       "       Volume  Dividends  Stock Splits  \n",
       "248  48713900        0.0           0.0  \n",
       "249  42597200        0.0           0.0  \n",
       "250  23447735        0.0           0.0  "
      ]
     },
     "execution_count": 3,
     "metadata": {},
     "output_type": "execute_result"
    }
   ],
   "source": [
    "t = yf.Ticker(ticker)\n",
    "hist = t.history(period=period)\n",
    "hist = hist.reset_index()\n",
    "# show last 3 rows\n",
    "hist.tail(3)"
   ]
  },
  {
   "cell_type": "code",
   "execution_count": 4,
   "id": "2b4c4299-bacc-4702-8e95-4a0e8eb86b2e",
   "metadata": {},
   "outputs": [
    {
     "name": "stdout",
     "output_type": "stream",
     "text": [
      "Available expiries: ('2025-10-03', '2025-10-10', '2025-10-17', '2025-10-24', '2025-10-31', '2025-11-07', '2025-11-21', '2025-12-19', '2026-01-16', '2026-02-20', '2026-03-20', '2026-04-17', '2026-05-15', '2026-06-18', '2026-08-21', '2026-09-18', '2026-12-18', '2027-01-15', '2027-06-17', '2027-12-17', '2028-01-21')\n"
     ]
    }
   ],
   "source": [
    "expiries = t.options\n",
    "print(\"Available expiries:\", expiries)\n"
   ]
  },
  {
   "cell_type": "code",
   "execution_count": 5,
   "id": "146dcd30-ff51-4dd2-9078-f508f3efe095",
   "metadata": {},
   "outputs": [
    {
     "name": "stdout",
     "output_type": "stream",
     "text": [
      "Selected expiry: 2025-10-03\n",
      "Calls rows: 57 Puts rows: 54\n"
     ]
    },
    {
     "data": {
      "text/plain": [
       "(        contractSymbol             lastTradeDate  strike  lastPrice     bid  \\\n",
       " 0  AAPL251003C00110000 2025-10-02 19:31:51+00:00   110.0     147.58  148.00   \n",
       " 1  AAPL251003C00125000 2025-10-03 15:06:24+00:00   125.0     133.25  133.25   \n",
       " \n",
       "       ask    change  percentChange  volume  openInterest  impliedVolatility  \\\n",
       " 0  149.00  0.000000       0.000000     1.0             2           5.187504   \n",
       " 1  133.95  0.779999       0.588812     1.0             8           5.593753   \n",
       " \n",
       "    inTheMoney contractSize currency  \n",
       " 0        True      REGULAR      USD  \n",
       " 1        True      REGULAR      USD  ,\n",
       "         contractSymbol             lastTradeDate  strike  lastPrice  bid  \\\n",
       " 0  AAPL251003P00110000 2025-09-30 16:22:35+00:00   110.0       0.01  0.0   \n",
       " 1  AAPL251003P00120000 2025-09-10 14:56:58+00:00   120.0       0.01  0.0   \n",
       " \n",
       "     ask  change  percentChange  volume  openInterest  impliedVolatility  \\\n",
       " 0  0.01     0.0            0.0    10.0            62           4.875004   \n",
       " 1  0.01     0.0            0.0    29.0           134           4.375005   \n",
       " \n",
       "    inTheMoney contractSize currency  \n",
       " 0       False      REGULAR      USD  \n",
       " 1       False      REGULAR      USD  )"
      ]
     },
     "execution_count": 5,
     "metadata": {},
     "output_type": "execute_result"
    }
   ],
   "source": [
    "# choose index 0 (first) or change index to another expiry\n",
    "expiry = expiries[0]\n",
    "print(\"Selected expiry:\", expiry)\n",
    "\n",
    "chain = t.option_chain(expiry)\n",
    "calls = chain.calls.copy()\n",
    "puts  = chain.puts.copy()\n",
    "\n",
    "# quick preview\n",
    "print(\"Calls rows:\", len(calls), \"Puts rows:\", len(puts))\n",
    "calls.head(2), puts.head(2)"
   ]
  },
  {
   "cell_type": "code",
   "execution_count": 6,
   "id": "adcb6901-99cc-4a26-9e59-e902dd1e4ea6",
   "metadata": {},
   "outputs": [],
   "source": [
    "for df in (calls, puts):\n",
    "    if 'openInterest' in df.columns:\n",
    "        df['openInterest'] = pd.to_numeric(df['openInterest'], errors='coerce').fillna(0).astype(int)\n",
    "    else:\n",
    "        df['openInterest'] = 0\n",
    "    df['strike'] = pd.to_numeric(df['strike'], errors='coerce')"
   ]
  },
  {
   "cell_type": "code",
   "execution_count": 7,
   "id": "83b0c89f-1f7c-43c1-864c-96bc014c6553",
   "metadata": {},
   "outputs": [
    {
     "name": "stdout",
     "output_type": "stream",
     "text": [
      "Total Call OI: 254089\n",
      "Total Put  OI: 124296\n",
      "Put/Call OI ratio: 0.489\n",
      "\n",
      "Top 5 Calls:\n",
      " strike  openInterest  lastPrice\n",
      "  260.0         50387       0.24\n",
      "  265.0         26538       0.02\n",
      "  262.5         22491       0.05\n",
      "  255.0         17865       3.55\n",
      "  270.0         16724       0.01\n",
      "\n",
      "Top 5 Puts:\n",
      " strike  openInterest  lastPrice\n",
      "  255.0         14785       0.08\n",
      "  250.0         14031       0.03\n",
      "  240.0         11055       0.01\n",
      "  247.5         10798       0.02\n",
      "  252.5          9378       0.03\n"
     ]
    }
   ],
   "source": [
    "total_call_oi = calls['openInterest'].sum()\n",
    "total_put_oi  = puts['openInterest'].sum()\n",
    "ocr = (total_put_oi / total_call_oi) if total_call_oi>0 else np.nan\n",
    "print(\"Total Call OI:\", total_call_oi)\n",
    "print(\"Total Put  OI:\", total_put_oi)\n",
    "print(\"Put/Call OI ratio:\", round(ocr,3))\n",
    "\n",
    "top_calls = calls.sort_values('openInterest', ascending=False).head(5)[['strike','openInterest','lastPrice']]\n",
    "top_puts  = puts.sort_values('openInterest', ascending=False).head(5)[['strike','openInterest','lastPrice']]\n",
    "\n",
    "print(\"\\nTop 5 Calls:\")\n",
    "print(top_calls.to_string(index=False))\n",
    "print(\"\\nTop 5 Puts:\")\n",
    "print(top_puts.to_string(index=False))"
   ]
  },
  {
   "cell_type": "code",
   "execution_count": 8,
   "id": "2deefce0-4026-4e1b-9f14-f30ad88c4ce0",
   "metadata": {},
   "outputs": [
    {
     "name": "stdout",
     "output_type": "stream",
     "text": [
      "Spot price (latest close): 258.44000244140625\n",
      "Max pain strike: 250.0\n"
     ]
    },
    {
     "data": {
      "text/html": [
       "<div>\n",
       "<style scoped>\n",
       "    .dataframe tbody tr th:only-of-type {\n",
       "        vertical-align: middle;\n",
       "    }\n",
       "\n",
       "    .dataframe tbody tr th {\n",
       "        vertical-align: top;\n",
       "    }\n",
       "\n",
       "    .dataframe thead th {\n",
       "        text-align: right;\n",
       "    }\n",
       "</style>\n",
       "<table border=\"1\" class=\"dataframe\">\n",
       "  <thead>\n",
       "    <tr style=\"text-align: right;\">\n",
       "      <th></th>\n",
       "      <th>strike</th>\n",
       "      <th>pain</th>\n",
       "    </tr>\n",
       "  </thead>\n",
       "  <tbody>\n",
       "    <tr>\n",
       "      <th>35</th>\n",
       "      <td>250.0</td>\n",
       "      <td>835757.5</td>\n",
       "    </tr>\n",
       "    <tr>\n",
       "      <th>34</th>\n",
       "      <td>247.5</td>\n",
       "      <td>843412.5</td>\n",
       "    </tr>\n",
       "    <tr>\n",
       "      <th>33</th>\n",
       "      <td>245.0</td>\n",
       "      <td>887257.5</td>\n",
       "    </tr>\n",
       "    <tr>\n",
       "      <th>36</th>\n",
       "      <td>252.5</td>\n",
       "      <td>902362.5</td>\n",
       "    </tr>\n",
       "    <tr>\n",
       "      <th>32</th>\n",
       "      <td>242.5</td>\n",
       "      <td>966767.5</td>\n",
       "    </tr>\n",
       "  </tbody>\n",
       "</table>\n",
       "</div>"
      ],
      "text/plain": [
       "    strike      pain\n",
       "35   250.0  835757.5\n",
       "34   247.5  843412.5\n",
       "33   245.0  887257.5\n",
       "36   252.5  902362.5\n",
       "32   242.5  966767.5"
      ]
     },
     "execution_count": 8,
     "metadata": {},
     "output_type": "execute_result"
    }
   ],
   "source": [
    "# spot price (latest close)\n",
    "S = hist['Close'].iloc[-1]\n",
    "print(\"Spot price (latest close):\", S)\n",
    "\n",
    "def compute_max_pain(calls_df, puts_df):\n",
    "    strikes = sorted(set(calls_df['strike'].dropna().astype(float)).union(set(puts_df['strike'].dropna().astype(float))))\n",
    "    pains = []\n",
    "    for s in strikes:\n",
    "        calls_loss = ((np.maximum(s - calls_df['strike'], 0)) * calls_df['openInterest']).sum()\n",
    "        puts_loss  = ((np.maximum(puts_df['strike'] - s, 0)) * puts_df['openInterest']).sum()\n",
    "        pains.append((s, calls_loss + puts_loss))\n",
    "    pain_df = pd.DataFrame(pains, columns=['strike','pain']).sort_values('pain')\n",
    "    return pain_df\n",
    "\n",
    "pain_df = compute_max_pain(calls, puts)\n",
    "max_pain = pain_df.iloc[0]\n",
    "print(\"Max pain strike:\", max_pain['strike'])\n",
    "# show 5 lowest pain values (possible targets)\n",
    "pain_df.head(5)"
   ]
  },
  {
   "cell_type": "code",
   "execution_count": 9,
   "id": "d8e95c48-fb53-4044-832e-3f67e54354a5",
   "metadata": {},
   "outputs": [
    {
     "data": {
      "image/png": "[encoded data removed]",
      "text/plain": [
       "<Figure size 800x400 with 1 Axes>"
      ]
     },
     "metadata": {},
     "output_type": "display_data"
    }
   ],
   "source": [
    "iv = pd.concat([\n",
    "    calls[['strike','impliedVolatility']].assign(type='call'),\n",
    "    puts[['strike','impliedVolatility']].assign(type='put')\n",
    "]).dropna(subset=['impliedVolatility'])\n",
    "\n",
    "plt.figure(figsize=(8,4))\n",
    "plt.scatter(iv['strike'], iv['impliedVolatility'], s=15)\n",
    "plt.title(f\"{ticker} implied volatility by strike ({expiry})\")\n",
    "plt.xlabel(\"Strike\")\n",
    "plt.ylabel(\"Implied Volatility\")\n",
    "plt.grid(True)\n",
    "plt.show()"
   ]
  },
  {
   "cell_type": "code",
   "execution_count": 10,
   "id": "7f678f3e-3e10-4f4b-b5ff-7cdf4fa91edf",
   "metadata": {},
   "outputs": [
    {
     "name": "stdout",
     "output_type": "stream",
     "text": [
      "Saved CSVs to current folder.\n"
     ]
    }
   ],
   "source": [
    "calls.to_csv(f\"{ticker}_calls_{expiry}.csv\", index=False)\n",
    "puts.to_csv(f\"{ticker}_puts_{expiry}.csv\", index=False)\n",
    "pain_df.to_csv(f\"{ticker}_pain_{expiry}.csv\", index=False)\n",
    "print(\"Saved CSVs to current folder.\")"
   ]
  },
  {
   "cell_type": "code",
   "execution_count": null,
   "id": "70e35394-6b88-4dd0-96ad-f084298cefd8",
   "metadata": {},
   "outputs": [],
   "source": []
  }
 ],
 "metadata": {
  "kernelspec": {
   "display_name": "Python 3 (ipykernel)",
   "language": "python",
   "name": "python3"
  },
  "language_info": {
   "codemirror_mode": {
    "name": "ipython",
    "version": 3
   },
   "file_extension": ".py",
   "mimetype": "text/x-python",
   "name": "python",
   "nbconvert_exporter": "python",
   "pygments_lexer": "ipython3",
   "version": "3.12.7"
  }
 },
 "nbformat": 4,
 "nbformat_minor": 5
}
