{
  "nbformat": 4,
  "nbformat_minor": 0,
  "metadata": {
    "colab": {
      "provenance": []
    },
    "kernelspec": {
      "name": "python3",
      "display_name": "Python 3"
    },
    "language_info": {
      "name": "python"
    }
  },
  "cells": [
    {
      "cell_type": "code",
      "source": [
        "# --- Step 1: Import library ---\n",
        "from scipy.optimize import newton  # for IRR calculation\n",
        "\n",
        "# --- Step 2: Define NPV function ---\n",
        "def calculate_npv(cash_flows, discount_rate):\n",
        "    \"\"\"\n",
        "    cash_flows: list of cash flows (year 0, year 1, ...)\n",
        "    discount_rate: rate in decimal (10% = 0.1)\n",
        "    \"\"\"\n",
        "    npv = 0\n",
        "    for t in range(len(cash_flows)):\n",
        "        npv += cash_flows[t] / (1 + discount_rate) ** t\n",
        "    return npv\n",
        "\n",
        "# --- Step 3: Define IRR function ---\n",
        "def calculate_irr(cash_flows):\n",
        "    \"\"\"\n",
        "    IRR is the discount rate that makes NPV = 0\n",
        "    \"\"\"\n",
        "    npv_function = lambda r: sum(cash_flows[t] / (1 + r) ** t for t in range(len(cash_flows)))\n",
        "    irr = newton(npv_function, 0.1)  # initial guess = 10%\n",
        "    return irr\n",
        "\n",
        "# --- Step 4: Input Example Cash Flows ---\n",
        "cash_flows = [-1000, 500, 600, 700]  # investment and returns\n",
        "discount_rate = 0.1  # 10%\n",
        "\n",
        "# --- Step 5: Calculate ---\n",
        "npv = calculate_npv(cash_flows, discount_rate)\n",
        "irr = calculate_irr(cash_flows)\n",
        "\n",
        "# --- Step 6: Show Results ---\n",
        "print(\"Cash Flows:\", cash_flows)\n",
        "print(f\"Discount Rate: {discount_rate*100:.1f}%\")\n",
        "print(f\"NPV: {npv:.2f}\")\n",
        "print(f\"IRR: {irr:.2%}\")\n",
        "\n",
        "# --- Step 7: Decision Rule ---\n",
        "if (npv > 0) and (irr > discount_rate):\n",
        "    print(\"✅ Decision: ACCEPT the project (profitable & attractive).\")\n",
        "else:\n",
        "    print(\"❌ Decision: REJECT the project (not worth investing).\")"
      ],
      "metadata": {
        "colab": {
          "base_uri": "https://localhost:8080/"
        },
        "id": "ep35kl_i9WwU",
        "outputId": "514619e1-f1d4-44fe-a435-ceb90be45058"
      },
      "execution_count": 6,
      "outputs": [
        {
          "output_type": "stream",
          "name": "stdout",
          "text": [
            "Cash Flows: [-1000, 500, 600, 700]\n",
            "Discount Rate: 10.0%\n",
            "NPV: 476.33\n",
            "IRR: 33.87%\n",
            "✅ Decision: ACCEPT the project (profitable & attractive).\n"
          ]
        }
      ]
    },
    {
      "cell_type": "code",
      "source": [
        "# --- Step 8: Visualization of Cash Flows + Decision ---\n",
        "import matplotlib.pyplot as plt\n",
        "\n",
        "years = list(range(len(cash_flows)))\n",
        "colors = ['red' if cf < 0 else 'green' for cf in cash_flows]  # red = outflow, green = inflow\n",
        "\n",
        "plt.bar(years, cash_flows, color=colors)\n",
        "plt.axhline(0, color='black', linewidth=1)  # baseline\n",
        "plt.title(\"Investment Cash Flows\")\n",
        "plt.xlabel(\"Year\")\n",
        "plt.ylabel(\"Cash Flow\")\n",
        "\n",
        "# --- Show Decision on Chart ---\n",
        "if (npv > 0) and (irr > discount_rate):\n",
        "    decision = \"ACCEPT \"\n",
        "    plt.text(1, max(cash_flows) + 100, decision, fontsize=16, color=\"green\", weight=\"bold\")\n",
        "else:\n",
        "    decision = \"REJECT \"\n",
        "    plt.text(1, max(cash_flows) + 100, decision, fontsize=16, color=\"red\", weight=\"bold\")\n",
        "\n",
        "# --- Show NPV & IRR inside the chart ---\n",
        "plt.text(0.5, min(cash_flows) - 100, f\"NPV = {npv:.2f}\", fontsize=12, color=\"blue\")\n",
        "plt.text(0.5, min(cash_flows) - 200, f\"IRR = {irr*100:.2f}%\", fontsize=12, color=\"blue\")\n",
        "\n",
        "plt.show()"
      ],
      "metadata": {
        "colab": {
          "base_uri": "https://localhost:8080/",
          "height": 472
        },
        "id": "Mu5c7M-n_cL9",
        "outputId": "15b6a7be-d540-4ca6-eea2-5f2933987bb2"
      },
      "execution_count": 8,
      "outputs": [
        {
          "output_type": "display_data",
          "data": {
            "text/plain": [
              "<Figure size 640x480 with 1 Axes>"
            ],
            "image/png": "[encoded data removed]"
          },
          "metadata": {}
        }
      ]
    },
    {
      "cell_type": "code",
      "source": [
        "# --- Step 9: Payback Period Calculation ---\n",
        "def calculate_payback(cash_flows):\n",
        "    \"\"\"\n",
        "    Returns the payback period in years\n",
        "    If investment never recovered, returns None\n",
        "    \"\"\"\n",
        "    cumulative_cashflow = 0\n",
        "    for year, cf in enumerate(cash_flows):\n",
        "        cumulative_cashflow += cf\n",
        "        if cumulative_cashflow >= 0:   # investment recovered\n",
        "            return year\n",
        "    return None  # never recovered\n",
        "\n",
        "payback_period = calculate_payback(cash_flows)\n",
        "print(f\"Payback Period: {payback_period} years\" if payback_period is not None else \"Project never pays back.\")"
      ],
      "metadata": {
        "colab": {
          "base_uri": "https://localhost:8080/"
        },
        "id": "oMsLgYzqAJQ-",
        "outputId": "7b3c1e73-b62a-4944-fdc6-b11522a6627f"
      },
      "execution_count": 9,
      "outputs": [
        {
          "output_type": "stream",
          "name": "stdout",
          "text": [
            "Payback Period: 2 years\n"
          ]
        }
      ]
    },
    {
      "cell_type": "code",
      "source": [
        "# --- Step 10: Final Investment Decision (NPV + IRR + Payback) ---\n",
        "if (npv > 0) and (irr > discount_rate) and (payback_period <= 3):\n",
        "    print(\"✅ Decision: ACCEPT (good on all measures)\")\n",
        "else:\n",
        "    print(\"❌ Decision: REJECT\")"
      ],
      "metadata": {
        "colab": {
          "base_uri": "https://localhost:8080/"
        },
        "id": "oYQfVVyhARki",
        "outputId": "97f21547-59ae-4f6e-df29-c30b5ab25458"
      },
      "execution_count": 11,
      "outputs": [
        {
          "output_type": "stream",
          "name": "stdout",
          "text": [
            "✅ Decision: ACCEPT (good on all measures)\n"
          ]
        }
      ]
    },
    {
      "cell_type": "markdown",
      "source": [
        "Title: Investment Decision(Financial) Calculator using Python\n",
        "**bold text**\n",
        "In this project, I built an investment decision calculator in Python (Google Colab). The calculator uses Net Present Value (NPV) and Internal Rate of Return (IRR) to evaluate projects, which are standard time value of money techniques.\n",
        "\n",
        "As a creative extension, I also added the Payback Period calculation (to check how many years it takes to recover the investment). Although I did not add its visualization, it still strengthens the decision-making process.\n",
        "\n",
        "I also created a cash flow visualization (bar chart) where negative flows are shown in red, positive flows in green, and the final decision (ACCEPT/REJECT) is displayed on the chart.\n",
        "\n",
        "Reflection:\n",
        "\n",
        "I learned how to define Python functions for financial formulas.\n",
        "\n",
        "My favorite part was connecting finance theory with Python code, and adding visualization that makes the decision easy to understand.\n",
        "\n",
        "Adding Payback Period (extra rule) helped me go beyond the basic requirement and show creativity."
      ],
      "metadata": {
        "id": "1J7aVUCRBxp9"
      }
    }
  ]
}